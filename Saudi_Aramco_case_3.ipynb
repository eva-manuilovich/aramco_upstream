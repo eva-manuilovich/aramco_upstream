{
 "cells": [
  {
   "cell_type": "markdown",
   "metadata": {},
   "source": [
    "# Getting Well A and Well B traces"
   ]
  },
  {
   "cell_type": "code",
   "execution_count": 1,
   "metadata": {
    "collapsed": true
   },
   "outputs": [],
   "source": [
    "import pandas as pd\n",
    "import numpy as np\n",
    "from PIL import Image\n",
    "import matplotlib.pyplot as plt"
   ]
  },
  {
   "cell_type": "code",
   "execution_count": 2,
   "metadata": {
    "collapsed": true
   },
   "outputs": [],
   "source": [
    "im = Image.open('SeismicScaled.jpg')\n",
    "rgb_im = im.convert('RGB')\n",
    "arr = np.array(rgb_im)"
   ]
  },
  {
   "cell_type": "code",
   "execution_count": 3,
   "metadata": {},
   "outputs": [
    {
     "data": {
      "text/plain": [
       "(1437, 781)"
      ]
     },
     "execution_count": 3,
     "metadata": {},
     "output_type": "execute_result"
    }
   ],
   "source": [
    "y_size = len(arr)\n",
    "x_size = len(arr[0])\n",
    "x_size,y_size"
   ]
  },
  {
   "cell_type": "code",
   "execution_count": 4,
   "metadata": {
    "collapsed": true
   },
   "outputs": [],
   "source": [
    "df = pd.DataFrame.from_records(arr)"
   ]
  },
  {
   "cell_type": "code",
   "execution_count": 5,
   "metadata": {
    "collapsed": true
   },
   "outputs": [],
   "source": [
    "df = df.T"
   ]
  },
  {
   "cell_type": "code",
   "execution_count": 6,
   "metadata": {
    "collapsed": true
   },
   "outputs": [],
   "source": [
    "stacked = df.stack()\n",
    "stacked = stacked.reset_index()\n",
    "stacked[['r','g','b']] = pd.DataFrame(stacked[0].values.tolist(), index=stacked.index)\n",
    "stacked.columns = ['x','y','drop','r','g','b']\n",
    "stacked.drop('drop', axis = 1, inplace = True)\n",
    "stacked_pix = stacked"
   ]
  },
  {
   "cell_type": "code",
   "execution_count": 7,
   "metadata": {},
   "outputs": [
    {
     "data": {
      "image/png": "[encoded data removed]",
      "text/plain": [
       "<matplotlib.figure.Figure at 0x1291b278>"
      ]
     },
     "metadata": {},
     "output_type": "display_data"
    }
   ],
   "source": [
    "star = stacked[(stacked.r<160)&(stacked.g<160)&(stacked.b>200)]\n",
    "\n",
    "star_a = star[star.x<800]\n",
    "star_b = star[star.x>800]\n",
    "star_a_x = star_a.x.median()\n",
    "star_b_x = star_b.x.median()\n",
    "star_a_y = star_a.y.median()\n",
    "star_b_y = star_b.y.median()\n",
    "\n",
    "plt.figure(figsize=(6,6))\n",
    "plt.plot(star.x,star.y)\n",
    "plt.xlim(0,x_size)\n",
    "plt.ylim(0,y_size)\n",
    "plt.gca().invert_yaxis()\n",
    "plt.text(star_a_x, star_a_y-10, str(star_a_x),horizontalalignment='center')\n",
    "plt.text(star_b_x, star_b_y-10, str(star_b_x),horizontalalignment='center')\n",
    "plt.show()\n"
   ]
  },
  {
   "cell_type": "code",
   "execution_count": 8,
   "metadata": {},
   "outputs": [
    {
     "data": {
      "text/plain": [
       "(781, 781)"
      ]
     },
     "execution_count": 8,
     "metadata": {},
     "output_type": "execute_result"
    }
   ],
   "source": [
    "a_trace=stacked[stacked.x == star_a_x]\n",
    "b_trace=stacked[stacked.x == star_b_x]\n",
    "len(a_trace),len(b_trace)"
   ]
  },
  {
   "cell_type": "markdown",
   "metadata": {},
   "source": [
    "# Upscaling well data"
   ]
  },
  {
   "cell_type": "code",
   "execution_count": 9,
   "metadata": {
    "collapsed": true
   },
   "outputs": [],
   "source": [
    "xls1 = pd.read_excel('WellACoreDescription.xlsx', header = None)\n",
    "xls2 = pd.read_excel('WellBCoreDescription.xlsx', header = None)"
   ]
  },
  {
   "cell_type": "code",
   "execution_count": 10,
   "metadata": {
    "collapsed": true
   },
   "outputs": [],
   "source": [
    "xls1.columns = ['Depth','Lithology']\n",
    "xls2.columns = ['Depth','Lithology']"
   ]
  },
  {
   "cell_type": "code",
   "execution_count": 11,
   "metadata": {},
   "outputs": [
    {
     "data": {
      "text/plain": [
       "(3999.06538856438, 6099.91959999515)"
      ]
     },
     "execution_count": 11,
     "metadata": {},
     "output_type": "execute_result"
    }
   ],
   "source": [
    "xls1.Depth.min(),xls1.Depth.max()"
   ]
  },
  {
   "cell_type": "code",
   "execution_count": 12,
   "metadata": {},
   "outputs": [
    {
     "data": {
      "text/plain": [
       "(3959.0996365139, 5159.86959999589)"
      ]
     },
     "execution_count": 12,
     "metadata": {},
     "output_type": "execute_result"
    }
   ],
   "source": [
    "xls2.Depth.min(),xls2.Depth.max()"
   ]
  },
  {
   "cell_type": "code",
   "execution_count": 13,
   "metadata": {
    "collapsed": true
   },
   "outputs": [],
   "source": [
    "def upscaling(xls,f,layers,lith = True):\n",
    "    if lith:\n",
    "        xls.columns = ['Depth','Lithology']\n",
    "    else:\n",
    "        xls.columns = ['Depth','Porosity']\n",
    "    xls['Depth'] = round(xls['Depth'],1)\n",
    "    if layers == \"\":\n",
    "        layers = np.arange(xls.iloc[0]['Depth'],xls.iloc[-1]['Depth']+2.5,2.5)\n",
    "    def lay(x):\n",
    "        for i in range(0,len(layers)-1):\n",
    "            if (x >= layers[i]) and (x <= layers[i+1]):\n",
    "                return layers[i]\n",
    "    xls['Tops'] = xls['Depth'].apply(lambda x: lay(x))\n",
    "    xls_upscale = xls.groupby(xls['Tops'], as_index=False).agg(lambda x: x.value_counts().index[0])\n",
    "    xls_upscale.drop('Depth', axis = 1, inplace = True)\n",
    "    if lith:\n",
    "        xls_upscale['Score'] = xls_upscale['Lithology'].replace({'sandstone':f-10,'shale':f+10})\n",
    "    return xls_upscale,layers"
   ]
  },
  {
   "cell_type": "code",
   "execution_count": 14,
   "metadata": {
    "collapsed": true
   },
   "outputs": [],
   "source": [
    "core_A, lay_A = upscaling(xls1,star_a_x,\"\")\n",
    "core_B, lay_B = upscaling(xls2, star_b_x,\"\")"
   ]
  },
  {
   "cell_type": "code",
   "execution_count": 15,
   "metadata": {
    "collapsed": true
   },
   "outputs": [],
   "source": [
    "xls3 = pd.read_excel('WellA.xlsx', header = None)\n",
    "xls4 = pd.read_excel('WellB.xlsx', header = None)"
   ]
  },
  {
   "cell_type": "code",
   "execution_count": 16,
   "metadata": {},
   "outputs": [
    {
     "name": "stderr",
     "output_type": "stream",
     "text": [
      "d:\\Users\\zaytel\\AppData\\Local\\Continuum\\anaconda3\\lib\\site-packages\\ipykernel_launcher.py:7: FutureWarning: elementwise comparison failed; returning scalar instead, but in the future will perform elementwise comparison\n",
      "  import sys\n"
     ]
    }
   ],
   "source": [
    "log_A,_ = upscaling(xls3,star_a_x,lay_A,lith = False)\n",
    "log_B,_ = upscaling(xls4, star_b_x,lay_B,lith = False)"
   ]
  },
  {
   "cell_type": "code",
   "execution_count": 17,
   "metadata": {
    "collapsed": true
   },
   "outputs": [],
   "source": [
    "well_A_upscale = pd.concat([core_A, log_A.drop(['Tops'],axis=1)], axis=1, sort=False)\n",
    "well_B_upscale = pd.concat([core_B, log_B.drop(['Tops'],axis=1)], axis=1, sort=False)"
   ]
  },
  {
   "cell_type": "code",
   "execution_count": 18,
   "metadata": {
    "collapsed": true
   },
   "outputs": [],
   "source": [
    "well_A_upscale.to_csv('WellAUpscaled.csv',index=False)\n",
    "well_B_upscale.to_csv('WellBUpscaled.csv',index=False)"
   ]
  },
  {
   "cell_type": "code",
   "execution_count": 19,
   "metadata": {},
   "outputs": [
    {
     "data": {
      "text/html": [
       "<div>\n",
       "<style scoped>\n",
       "    .dataframe tbody tr th:only-of-type {\n",
       "        vertical-align: middle;\n",
       "    }\n",
       "\n",
       "    .dataframe tbody tr th {\n",
       "        vertical-align: top;\n",
       "    }\n",
       "\n",
       "    .dataframe thead th {\n",
       "        text-align: right;\n",
       "    }\n",
       "</style>\n",
       "<table border=\"1\" class=\"dataframe\">\n",
       "  <thead>\n",
       "    <tr style=\"text-align: right;\">\n",
       "      <th></th>\n",
       "      <th>Lithology</th>\n",
       "      <th>Tops</th>\n",
       "      <th>Score</th>\n",
       "      <th>Porosity</th>\n",
       "    </tr>\n",
       "  </thead>\n",
       "  <tbody>\n",
       "    <tr>\n",
       "      <th>0</th>\n",
       "      <td>sandstone</td>\n",
       "      <td>3999.1</td>\n",
       "      <td>400.0</td>\n",
       "      <td>0.214941</td>\n",
       "    </tr>\n",
       "    <tr>\n",
       "      <th>1</th>\n",
       "      <td>sandstone</td>\n",
       "      <td>4001.6</td>\n",
       "      <td>400.0</td>\n",
       "      <td>0.414761</td>\n",
       "    </tr>\n",
       "    <tr>\n",
       "      <th>2</th>\n",
       "      <td>sandstone</td>\n",
       "      <td>4004.1</td>\n",
       "      <td>400.0</td>\n",
       "      <td>0.360643</td>\n",
       "    </tr>\n",
       "    <tr>\n",
       "      <th>3</th>\n",
       "      <td>sandstone</td>\n",
       "      <td>4006.6</td>\n",
       "      <td>400.0</td>\n",
       "      <td>0.321016</td>\n",
       "    </tr>\n",
       "    <tr>\n",
       "      <th>4</th>\n",
       "      <td>sandstone</td>\n",
       "      <td>4009.1</td>\n",
       "      <td>400.0</td>\n",
       "      <td>0.290221</td>\n",
       "    </tr>\n",
       "  </tbody>\n",
       "</table>\n",
       "</div>"
      ],
      "text/plain": [
       "   Lithology    Tops  Score  Porosity\n",
       "0  sandstone  3999.1  400.0  0.214941\n",
       "1  sandstone  4001.6  400.0  0.414761\n",
       "2  sandstone  4004.1  400.0  0.360643\n",
       "3  sandstone  4006.6  400.0  0.321016\n",
       "4  sandstone  4009.1  400.0  0.290221"
      ]
     },
     "execution_count": 19,
     "metadata": {},
     "output_type": "execute_result"
    }
   ],
   "source": [
    "well_A_upscale.head()"
   ]
  },
  {
   "cell_type": "markdown",
   "metadata": {},
   "source": [
    "# Interpolate horizons"
   ]
  },
  {
   "cell_type": "code",
   "execution_count": 20,
   "metadata": {
    "collapsed": true
   },
   "outputs": [],
   "source": [
    "horizons = pd.read_csv('horizon_extra_m (1).csv')"
   ]
  },
  {
   "cell_type": "code",
   "execution_count": 21,
   "metadata": {},
   "outputs": [
    {
     "data": {
      "text/plain": [
       "1339"
      ]
     },
     "execution_count": 21,
     "metadata": {},
     "output_type": "execute_result"
    }
   ],
   "source": [
    "horizons.columns = ['top','bottom']\n",
    "len(horizons)"
   ]
  },
  {
   "cell_type": "code",
   "execution_count": 22,
   "metadata": {
    "collapsed": true
   },
   "outputs": [],
   "source": [
    "resolution_y = 12800/738\n",
    "resolution_x = 15000/1200\n",
    "\n",
    "stacked['y'] = stacked['y']*resolution_y\n",
    "stacked['x'] = stacked['x']*resolution_x\n"
   ]
  },
  {
   "cell_type": "code",
   "execution_count": 23,
   "metadata": {
    "collapsed": true
   },
   "outputs": [],
   "source": [
    "top = stacked[(stacked.r>200)&(stacked.g>100)&(stacked.g<200)&(stacked.b<70)] \n",
    "bottom = stacked[(stacked.r>230)&(stacked.g>230)&(stacked.b<60)] \n",
    "\n",
    "top = top[top.y<4500]\n",
    "bottom = bottom[bottom.y>4500]\n",
    "\n",
    "well_B_upscale['Tops'] = well_B_upscale['Tops'] - (well_B_upscale.Tops.min() - top[top.x == 1074*resolution_x].y.max())\n",
    "well_A_upscale['Tops'] = well_A_upscale['Tops'] - (well_A_upscale.Tops.min() - top[top.x == 410*resolution_x].y.max())\n",
    "\n",
    "top['x'] = top['x'] - 61*resolution_x\n",
    "bottom['x'] = bottom['x'] - 61*resolution_x\n",
    "well_A_upscale['Score'] = well_A_upscale['Score'] - 61\n",
    "well_B_upscale['Score'] = well_B_upscale['Score'] - 61"
   ]
  },
  {
   "cell_type": "code",
   "execution_count": 24,
   "metadata": {},
   "outputs": [],
   "source": [
    "#k = 0\n",
    "#well_A_upscale['Index'] = 0\n",
    "#for i in range(1,len(well_A_upscale)):\n",
    "#    if well_A_upscale['Lithology'].iloc[i-1] == well_A_upscale['Lithology'].iloc[i]:\n",
    "#        well_A_upscale['Index'].iloc[i] = k\n",
    "#    else:\n",
    "#        k = k+1\n",
    "#        well_A_upscale['Index'].iloc[i] = k\n",
    "\n",
    "#well_A_upscale = well_A_upscale.groupby(well_A_upscale['Index'], as_index=False).agg({'Tops': 'max', 'Score': 'max','Porosity':'median','Lithology':'max'})"
   ]
  },
  {
   "cell_type": "code",
   "execution_count": 25,
   "metadata": {},
   "outputs": [],
   "source": [
    "#k = 0\n",
    "#well_B_upscale['Index'] = 0\n",
    "#for i in range(1,len(well_B_upscale)):\n",
    "#    if well_B_upscale['Lithology'].iloc[i-1] == well_B_upscale['Lithology'].iloc[i]:\n",
    "#        well_B_upscale['Index'].iloc[i] = k\n",
    "#    else:\n",
    "#        k = k+1\n",
    "#        well_B_upscale['Index'].iloc[i] = k\n",
    "\n",
    "#well_B_upscale = well_B_upscale.groupby(well_B_upscale['Index'], as_index=False).agg({'Tops': 'max', 'Score': 'max','Porosity':'median','Lithology':'max'})"
   ]
  },
  {
   "cell_type": "code",
   "execution_count": 26,
   "metadata": {},
   "outputs": [
    {
     "data": {
      "image/png": "[encoded data removed]",
      "text/plain": [
       "<matplotlib.figure.Figure at 0x1fb92400>"
      ]
     },
     "metadata": {},
     "output_type": "display_data"
    }
   ],
   "source": [
    "plt.figure(figsize=(20,6))\n",
    "plt.plot(top.x,top.y,'y') \n",
    "plt.plot(bottom.x,bottom.y,'r')\n",
    "plt.plot(well_A_upscale.Score*resolution_x,well_A_upscale.Tops,'g')\n",
    "plt.plot(well_B_upscale.Score*resolution_x,well_B_upscale.Tops,'g')\n",
    "plt.xlim(0,17000) \n",
    "plt.ylim(3000,9000) \n",
    "plt.gca().invert_yaxis() \n",
    "#plt.text(star_a_x, star_a_y-10, str(star_a_x),horizontalalignment='center')\n",
    "#plt.text(star_b_x, star_b_y-10, str(star_b_x),horizontalalignment='center')\n",
    "plt.show()"
   ]
  },
  {
   "cell_type": "code",
   "execution_count": null,
   "metadata": {},
   "outputs": [],
   "source": []
  },
  {
   "cell_type": "code",
   "execution_count": null,
   "metadata": {
    "collapsed": true
   },
   "outputs": [],
   "source": []
  }
 ],
 "metadata": {
  "kernelspec": {
   "display_name": "Python 3",
   "language": "python",
   "name": "python3"
  },
  "language_info": {
   "codemirror_mode": {
    "name": "ipython",
    "version": 3
   },
   "file_extension": ".py",
   "mimetype": "text/x-python",
   "name": "python",
   "nbconvert_exporter": "python",
   "pygments_lexer": "ipython3",
   "version": "3.6.3"
  }
 },
 "nbformat": 4,
 "nbformat_minor": 2
}
